{
 "cells": [
  {
   "cell_type": "markdown",
   "id": "649d535a-511e-4e27-97b1-1119cba2242a",
   "metadata": {},
   "source": [
    "Ecercise 2\n",
    "# New Project for Data Science"
   ]
  },
  {
   "cell_type": "markdown",
   "id": "58d683a8-af59-4d1d-b740-5f57317a3391",
   "metadata": {},
   "source": [
    "Ecercise 3\n",
    "\n",
    "This is my first project while doing data science training."
   ]
  },
  {
   "cell_type": "markdown",
   "id": "49683cc3-d3ef-43f3-bc0e-2a64c47f6822",
   "metadata": {},
   "source": [
    "Ecercise 4\n",
    "#### Data Science Languages\n",
    "- Python\n",
    "- R\n",
    "- SQL\n",
    "- Julia\n",
    "- Scala"
   ]
  },
  {
   "cell_type": "markdown",
   "id": "6ccbca9b-e533-4115-b458-451a2f01528b",
   "metadata": {},
   "source": [
    "Ecercise 5\n",
    "#### Data Science Libraries\n",
    "- Pandas\n",
    "- NumPy\n",
    "- Matplotlib\n",
    "- Seaborn\n",
    "- Scikit-learn\n",
    "- TensorFlow\n",
    "- Keras"
   ]
  },
  {
   "cell_type": "markdown",
   "id": "9d3a5f52-8255-4290-843d-8487d95dbc60",
   "metadata": {},
   "source": [
    "Ecercise 6\n",
    "#### Data Science Tools\n",
    "| No | Tool           | Category                 | Description                                                  |\n",
    "|----|----------------|--------------------------|--------------------------------------------------------------|\n",
    "| 1. | Jupyter Notebook | Development Environment | Interactive environment for writing and running code         |\n",
    "| 2. | RStudio        | Development Environment   | IDE for R programming                                        |\n",
    "| 3. | Apache Spark   | Big Data Processing       | Distributed processing system for big data analytics         |\n",
    "| 4. | TensorFlow     | Machine Learning / AI     | Open-source platform for building and training ML models     |\n",
    "| 5. | Tableau        | Data Visualization        | Tool for creating interactive and shareable dashboards       |\n",
    "| 6. | Power BI       | Data Visualization        | Business analytics service for visualizing data              |\n",
    "| 7. | Hadoop         | Big Data Storage/Processing | Framework for distributed storage and processing of big data |"
   ]
  },
  {
   "cell_type": "markdown",
   "id": "3be7675c-ad1a-46b6-90bb-1d85d2ab64ac",
   "metadata": {},
   "source": [
    "Ecercise 7\n",
    "## Arithmetic Expression Examples\n",
    "\n",
    "In this section, we demonstrate basic arithmetic expressions commonly used in data science. These expressions help perform mathematical operations such as addition, subtraction, multiplication, and division. Below are some examples to illustrate how they work in practice.\n"
   ]
  },
  {
   "cell_type": "code",
   "execution_count": 1,
   "id": "5602a16e-0b13-4a7e-ac50-19a225372803",
   "metadata": {},
   "outputs": [
    {
     "name": "stdout",
     "output_type": "stream",
     "text": [
      "Multiplication (x * y): 3\n",
      "Addition (product + c): 6\n"
     ]
    }
   ],
   "source": [
    "#Ecercise 8\n",
    "# Multiplication and Addition Example\n",
    "\n",
    "# Define numbers\n",
    "x = 1\n",
    "y = 2\n",
    "\n",
    "# Perform operations\n",
    "s_r = x+y\n",
    "m_r = s_r*y\n",
    "\n",
    "# Display results\n",
    "print(\"Multiplication (x * y):\", s_r)\n",
    "print(\"Addition (product + c):\", m_r)"
   ]
  },
  {
   "cell_type": "code",
   "execution_count": 2,
   "id": "5b243706-6b6b-4f38-9706-0ce1e0f346b6",
   "metadata": {},
   "outputs": [
    {
     "name": "stdout",
     "output_type": "stream",
     "text": [
      "150 minutes is equal to 2.5 hours\n"
     ]
    }
   ],
   "source": [
    "#Ecercise 9\n",
    "# Convert minutes to hours\n",
    "\n",
    "# Define number of minutes\n",
    "minutes = 150\n",
    "\n",
    "# Convert to hours\n",
    "hours = minutes / 60\n",
    "\n",
    "# Display result\n",
    "print(f\"{minutes} minutes is equal to {hours} hours\")\n"
   ]
  },
  {
   "cell_type": "markdown",
   "id": "5a1482a1-694c-4541-a3b5-2d7c3438e9f8",
   "metadata": {},
   "source": [
    "#Ecercise 10\n",
    "#### Objectives\n",
    "\n",
    "The objectives of this notebook are:\n",
    "\n",
    "- Understand and apply basic arithmetic expressions in Python.\n",
    "- Explore commonly used programming languages and libraries in data science.\n",
    "- Learn how to convert units (e.g., minutes to hours) using Python.\n",
    "- Get familiar with key tools used in the data science workflow.\n",
    "- Demonstrate markdown usage for clear documentation and organization."
   ]
  },
  {
   "cell_type": "markdown",
   "id": "82e32525-014e-4f4a-ad3c-c7c1f5485538",
   "metadata": {},
   "source": [
    "Exercise 11\n",
    "#### Author\n",
    "\n",
    "**Name:** Bakhtiyar Ghozi  "
   ]
  },
  {
   "cell_type": "code",
   "execution_count": null,
   "id": "8bcb9ba6-190d-43eb-b6dc-b24a3f0fd240",
   "metadata": {},
   "outputs": [],
   "source": []
  }
 ],
 "metadata": {
  "kernelspec": {
   "display_name": "Python [conda env:base] *",
   "language": "python",
   "name": "conda-base-py"
  },
  "language_info": {
   "codemirror_mode": {
    "name": "ipython",
    "version": 3
   },
   "file_extension": ".py",
   "mimetype": "text/x-python",
   "name": "python",
   "nbconvert_exporter": "python",
   "pygments_lexer": "ipython3",
   "version": "3.12.7"
  }
 },
 "nbformat": 4,
 "nbformat_minor": 5
}
